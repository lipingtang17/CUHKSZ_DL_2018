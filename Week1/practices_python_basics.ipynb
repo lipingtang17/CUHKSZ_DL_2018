{
 "cells": [
  {
   "cell_type": "code",
   "execution_count": 0,
   "metadata": {
    "colab": {
     "autoexec": {
      "startup": false,
      "wait_interval": 0
     }
    },
    "colab_type": "code",
    "id": "nJgJVfSugfaG"
   },
   "outputs": [],
   "source": [
    "import matplotlib.pyplot as plt    # import matplotlib\n",
    "import math                        # import basic math functions\n",
    "import random                      # import basic random number generator functions\n",
    "\n",
    "fig_w, fig_h = (6, 4)\n",
    "plt.rcParams.update({'figure.figsize': (fig_w, fig_h)})"
   ]
  },
  {
   "cell_type": "markdown",
   "metadata": {
    "colab_type": "text",
    "id": "UwXIfh1Y9j66"
   },
   "source": [
    "## Objectives\n",
    "\n",
    "In this notebook we'll implement a *Leaky Integrate-and-Fire (LIF)* neuron with stochastic pre-synaptic input current, and visualize its key statistical properties."
   ]
  },
  {
   "cell_type": "markdown",
   "metadata": {
    "colab_type": "text",
    "id": "HU7L6JxVgfaK"
   },
   "source": [
    "## Background\n",
    "\n",
    "This neuron model is defined by a *membrane equation* and a *reset condition*:\n",
    "\n",
    "\n",
    "\\begin{align*}\n",
    "\\\\\n",
    "&\\tau_m\\,\\frac{d}{dt}\\,V(t) = E_{L} - V(t) + R\\,I(t) &\\text{if }\\quad V(t) \\leq V_{th}\\\\\n",
    "\\\\\n",
    "&V(t) = V_{r} &\\text{otherwise}\\\\\n",
    "\\\\\n",
    "\\end{align*}\n",
    "\n",
    "\n",
    "where $V(t)$ is the membrane potential, $\\tau_m$ is the membrane time constant, $E_{L}$ is the leak potential, $I(t)$ is the pre-synaptic input current, $V_{th}$ is the firing threshold, and $V_{r}$ is the reset voltage.\n",
    "\n",
    "&nbsp; \n",
    "\n",
    "We'll extract and visualize the mean, standard deviation and histogram of the following quantities:\n",
    "\n",
    "* Pre-synaptic input current $I(t)$\n",
    "* Membrane potential $V(t)$\n",
    "* Output firing frequency $\\lambda(t)$\n",
    "\n",
    "The problem will be split in several steps:\n",
    "\n",
    "* Discrete time integration of $V(t)$ under sinusoidal pre-synaptic input, and without spikes\n",
    "* Stochastic pre-synaptic input\n",
    "* Visualizing ensemble statistics\n",
    "* Introducing output spikes"
   ]
  },
  {
   "cell_type": "markdown",
   "metadata": {
    "colab_type": "text",
    "id": "L58fdqcNgfaM"
   },
   "source": [
    "**EXERCISE 1**\n",
    "\n",
    "Initialize the main simulation variables.\n",
    "\n",
    "**Suggestions**\n",
    "* Modify the code below to print the main simulation parameters"
   ]
  },
  {
   "cell_type": "code",
   "execution_count": 0,
   "metadata": {
    "colab": {
     "autoexec": {
      "startup": false,
      "wait_interval": 0
     }
    },
    "colab_type": "code",
    "id": "UAHSSuaFgfaM"
   },
   "outputs": [],
   "source": [
    "# insert your code here\n",
    "\n",
    "# t_max = 150e-3   # second\n",
    "# dt = 1e-3        # second\n",
    "# tau = 20e-3      # second\n",
    "# el = -60e-3      # volt\n",
    "# vr = -70e-3      # volt\n",
    "# vth = -50e-3     # volt\n",
    "# r = 100e6        # ohm\n",
    "# i_mean = 25e-11  # ampere\n",
    "\n",
    "# print(t_max, dt, tau, el, vr, vth, r, i_mean)"
   ]
  },
  {
   "cell_type": "markdown",
   "metadata": {
    "colab_type": "text",
    "id": "DZZqT2DsgfaQ"
   },
   "source": [
    "**EXPECTED OUTPUT**\n",
    "\n",
    "```\n",
    "0.15 0.001 0.02 -0.06 -0.07 -0.05 100000000.0 2.5e-10\n",
    "```"
   ]
  },
  {
   "cell_type": "markdown",
   "metadata": {
    "colab_type": "text",
    "id": "Ty3sLVFcgfaR"
   },
   "source": [
    "### ODE integration without spikes\n",
    "\n",
    "The numerical integration of the membrane equation can be performed in discrete time, with a sufficiently small $\\Delta t$. We start by writting the membrane equation. without taking the limit $\\Delta t \\to 0$ in the definition of the time derivative $d/dt\\,V(t)$:\n",
    "\n",
    "\n",
    "\\begin{align*}\n",
    "\\\\\n",
    "\\tau_m\\,\\frac{V\\left(t+\\Delta t\\right)-V\\left(t\\right)}{\\Delta t} &= E_{L} - V(t) + R\\,I(t)\\\\\n",
    "\\\\\n",
    "\\end{align*}\n",
    "\n",
    "\n",
    "The value of membrane potential $V\\left(t+\\Delta t\\right)$ can be expressed in terms of its previous value $V(t)$ by simple algebraic manipulation. For *small enough* values of $\\Delta t$ this provides a good approximation of the continuous time integration."
   ]
  },
  {
   "cell_type": "markdown",
   "metadata": {
    "colab_type": "text",
    "id": "fd9r_vV5gfaT"
   },
   "source": [
    "**EXERCISE 2**\n",
    "\n",
    "Compute the values of $V(t)$ between $t=0$ and $t=0.01$ with $V(0)=E_L$ and pre-synaptic input given by:\n",
    "\n",
    "\n",
    "\\begin{align*}\n",
    "\\\\\n",
    "I(t)=I_{mean}\\left(1+\\sin\\left(\\frac{2 \\pi}{0.01}\\,t\\right)\\right)\n",
    "\\\\\n",
    "\\end{align*}\n",
    "\n",
    "\n",
    "**Suggestions**\n",
    "* Express $V\\left(t+\\Delta t\\right)$ in terms of $V(t)$\n",
    "* Initialize the membrane potential variable `v` to `el`\n",
    "* Loop in the time variable `t` from `t=0` to `t=0.01` with time step `dt`\n",
    "* At each time step\n",
    "    * Compute the current value of `i`\n",
    "    * Update the value of `v`\n",
    "    * Print `v`\n",
    "* Use `math.pi` and `math.sin` for evaluating $\\pi$ and $\\sin(\\,)$, respectively"
   ]
  },
  {
   "cell_type": "code",
   "execution_count": 0,
   "metadata": {
    "colab": {
     "autoexec": {
      "startup": false,
      "wait_interval": 0
     }
    },
    "colab_type": "code",
    "id": "RJnMarcZHLyi"
   },
   "outputs": [],
   "source": [
    "# insert your code here"
   ]
  },
  {
   "cell_type": "markdown",
   "metadata": {
    "colab_type": "text",
    "id": "Eb7u4zV2gfaV"
   },
   "source": [
    "**EXPECTED OUTPUT**\n",
    "\n",
    "```\n",
    "-0.05875\n",
    "-0.056827768434634406\n",
    "-0.05454755936753374\n",
    "-0.05238136075378811\n",
    "-0.05077756115073311\n",
    "-0.049988683093196457\n",
    "-0.04997398050390223\n",
    "-0.05041410212407606\n",
    "-0.0508322176632412\n",
    "-0.050775338345444725\n",
    "-0.050775338345444725\n",
    "```"
   ]
  },
  {
   "cell_type": "markdown",
   "metadata": {
    "colab_type": "text",
    "id": "7FB6_o4VgfaX"
   },
   "source": [
    "**EXERCISE 3**\n",
    "\n",
    "Plot the values of $V(t)$ between $t=0$ and $t=t_{max}$ under the same conditions.\n",
    "\n",
    "**Suggestions**\n",
    "* Update end time of loop to `t_max`\n",
    "* Replace printing command with plotting command (with keyword `'ko'`)"
   ]
  },
  {
   "cell_type": "code",
   "execution_count": 0,
   "metadata": {
    "colab": {
     "autoexec": {
      "startup": false,
      "wait_interval": 0
     }
    },
    "colab_type": "code",
    "id": "4osevDUGHcgq"
   },
   "outputs": [],
   "source": [
    "# insert your code here\n"
   ]
  },
  {
   "cell_type": "markdown",
   "metadata": {
    "colab_type": "text",
    "id": "LC56amWvgfaZ"
   },
   "source": [
    "**EXPECTED OUTPUT**\n",
    "\n",
    "![](https://github.com/ccnss/ccnss2018_students/raw/master/module0/lif_neuron/figures/lif_3.png)"
   ]
  },
  {
   "cell_type": "markdown",
   "metadata": {
    "colab_type": "text",
    "id": "DtVAnrjzgfaa"
   },
   "source": [
    "## Stochastic pre-synaptic input\n",
    "\n",
    "From the standpoint of neurons, their pre-synaptic input is random. We'll improve the pre-synaptic input model by introducing random input with similar statistical properties:\n",
    "\n",
    "\n",
    "\\begin{align*}\n",
    "\\\\\n",
    "I(t)=I_{mean}\\left(1+0.1\\sqrt{\\frac{t_{max}}{\\Delta t}}\\,\\xi(t)\\right)\\qquad\\text{with }\\xi(t)\\sim U(-1,1)\\\\\n",
    "\\\\\n",
    "\\end{align*}\n",
    "\n",
    "\n",
    "where $U(-1,1)$ is the uniform distribution with support $x\\in[-1,1]$.\n",
    "\n",
    "A random pre-synaptic input $I(t)$ results in a random time course $V(t)$."
   ]
  },
  {
   "cell_type": "markdown",
   "metadata": {
    "colab_type": "text",
    "id": "9tYiSqQxgfab"
   },
   "source": [
    "**EXERCISE 4**\n",
    "\n",
    "Plot the values of $V(t)$ between $t=0$ and $t=t_{max}$ with random input $I(t)$.\n",
    "\n",
    "Initialize the (pseudo) random number generator to a fixed value to obtain the same random input across executions of the code (initial value `0` will reproduce the expected output). The function `random.seed()` initializes the random number generator, and `random.random()` generates samples from the uniform distribution between `0` and `1`.\n",
    "\n",
    "**Suggestions**\n",
    "* Use the function `random.seed()`to initialize the random number generator to `0`\n",
    "* Use the function `random.random()` to generate the input at each timestep\n",
    "* Repeat the execution several times to verify that $V(t)$ has a random time course"
   ]
  },
  {
   "cell_type": "code",
   "execution_count": 0,
   "metadata": {
    "colab": {
     "autoexec": {
      "startup": false,
      "wait_interval": 0
     }
    },
    "colab_type": "code",
    "id": "xhkpikg4Hga_"
   },
   "outputs": [],
   "source": [
    "# insert your code here\n"
   ]
  },
  {
   "cell_type": "markdown",
   "metadata": {
    "colab_type": "text",
    "id": "5Ygqwcjtgfaf"
   },
   "source": [
    "**EXPECTED OUTPUT**\n",
    "\n",
    "![](https://github.com/ccnss/ccnss2018_students/raw/master/module0/lif_neuron/figures/lif_4.png)"
   ]
  }
 ],
 "metadata": {
  "accelerator": "GPU",
  "colab": {
   "collapsed_sections": [],
   "default_view": {},
   "name": "lif_neuron",
   "provenance": [
    {
     "file_id": "1f0fDwkmvyFC_2ZPTL9vQgIm_UaUeTxAc",
     "timestamp": 1524738812951
    }
   ],
   "version": "0.3.2",
   "views": {}
  },
  "kernelspec": {
   "display_name": "Python 3",
   "language": "python",
   "name": "python3"
  },
  "language_info": {
   "codemirror_mode": {
    "name": "ipython",
    "version": 3
   },
   "file_extension": ".py",
   "mimetype": "text/x-python",
   "name": "python",
   "nbconvert_exporter": "python",
   "pygments_lexer": "ipython3",
   "version": "3.6.5"
  }
 },
 "nbformat": 4,
 "nbformat_minor": 1
}
